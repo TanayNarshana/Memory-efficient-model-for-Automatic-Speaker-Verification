{
 "cells": [
  {
   "cell_type": "code",
   "execution_count": 1,
   "id": "8ff8affb",
   "metadata": {},
   "outputs": [],
   "source": [
    "import numpy as np\n",
    "import librosa\n",
    "import matplotlib.pyplot as plt\n",
    "import glob\n",
    "import os"
   ]
  },
  {
   "cell_type": "code",
   "execution_count": 2,
   "id": "7513c57a",
   "metadata": {},
   "outputs": [],
   "source": [
    "desired_sampling_rate = 16000 # in Hz\n",
    "time_duration = 4 # in seconds\n",
    "\n",
    "window_size = 108 #in ms\n",
    "window_shift = 10 #in ms\n",
    "pointFFT = 1728\n",
    "\n",
    "\n",
    "\n",
    "window_size = int(window_size*desired_sampling_rate/1000) # converting to samples\n",
    "window_shift = int(window_shift*desired_sampling_rate/1000) # converting to samples"
   ]
  },
  {
   "cell_type": "code",
   "execution_count": 3,
   "id": "4d444fe0",
   "metadata": {},
   "outputs": [
    {
     "name": "stdout",
     "output_type": "stream",
     "text": [
      "71933\n"
     ]
    }
   ],
   "source": [
    "file_list = glob.glob('../Data/LA/eval/flac/*.flac')\n",
    "print(len(file_list))"
   ]
  },
  {
   "cell_type": "code",
   "execution_count": 4,
   "id": "66947df4",
   "metadata": {},
   "outputs": [
    {
     "name": "stderr",
     "output_type": "stream",
     "text": [
      "<ipython-input-4-46303e338ad3>:11: RuntimeWarning: divide by zero encountered in log\n",
      "  spectrogram = np.log(np.abs(librosa.stft(signal, n_fft = window_size, hop_length = window_shift)))\n"
     ]
    },
    {
     "name": "stdout",
     "output_type": "stream",
     "text": [
      "4\n",
      "123\n",
      "198\n",
      "265\n",
      "268\n",
      "370\n",
      "497\n",
      "537\n",
      "655\n",
      "712\n",
      "831\n",
      "846\n",
      "876\n",
      "885\n",
      "944\n",
      "1043\n",
      "1102\n",
      "1129\n",
      "1209\n",
      "1355\n",
      "1510\n",
      "1675\n",
      "1684\n",
      "1699\n",
      "1713\n",
      "1868\n",
      "1954\n",
      "1977\n",
      "2041\n",
      "2185\n",
      "2187\n",
      "2192\n",
      "2237\n",
      "2274\n",
      "2289\n",
      "2370\n",
      "2397\n",
      "2542\n",
      "2602\n",
      "2611\n",
      "2709\n",
      "2761\n",
      "2781\n",
      "2811\n",
      "2915\n",
      "2941\n",
      "2963\n",
      "2983\n",
      "3011\n",
      "3028\n",
      "3120\n",
      "3222\n",
      "3252\n",
      "3340\n",
      "3362\n",
      "3547\n",
      "3549\n",
      "3688\n",
      "3696\n",
      "3715\n"
     ]
    },
    {
     "ename": "KeyboardInterrupt",
     "evalue": "",
     "output_type": "error",
     "traceback": [
      "\u001b[0;31m---------------------------------------------------------------------------\u001b[0m",
      "\u001b[0;31mKeyboardInterrupt\u001b[0m                         Traceback (most recent call last)",
      "\u001b[0;32m<ipython-input-4-46303e338ad3>\u001b[0m in \u001b[0;36m<module>\u001b[0;34m\u001b[0m\n\u001b[1;32m      9\u001b[0m         \u001b[0msignal\u001b[0m \u001b[0;34m=\u001b[0m \u001b[0mnp\u001b[0m\u001b[0;34m.\u001b[0m\u001b[0mhstack\u001b[0m\u001b[0;34m(\u001b[0m\u001b[0;34m(\u001b[0m\u001b[0msignal\u001b[0m\u001b[0;34m,\u001b[0m\u001b[0msignal\u001b[0m\u001b[0;34m)\u001b[0m\u001b[0;34m)\u001b[0m\u001b[0;34m\u001b[0m\u001b[0;34m\u001b[0m\u001b[0m\n\u001b[1;32m     10\u001b[0m     \u001b[0msignal\u001b[0m \u001b[0;34m=\u001b[0m \u001b[0msignal\u001b[0m\u001b[0;34m[\u001b[0m\u001b[0;34m:\u001b[0m\u001b[0mtime_duration\u001b[0m\u001b[0;34m*\u001b[0m\u001b[0mdesired_sampling_rate\u001b[0m\u001b[0;34m]\u001b[0m\u001b[0;34m\u001b[0m\u001b[0;34m\u001b[0m\u001b[0m\n\u001b[0;32m---> 11\u001b[0;31m     \u001b[0mspectrogram\u001b[0m \u001b[0;34m=\u001b[0m \u001b[0mnp\u001b[0m\u001b[0;34m.\u001b[0m\u001b[0mlog\u001b[0m\u001b[0;34m(\u001b[0m\u001b[0mnp\u001b[0m\u001b[0;34m.\u001b[0m\u001b[0mabs\u001b[0m\u001b[0;34m(\u001b[0m\u001b[0mlibrosa\u001b[0m\u001b[0;34m.\u001b[0m\u001b[0mstft\u001b[0m\u001b[0;34m(\u001b[0m\u001b[0msignal\u001b[0m\u001b[0;34m,\u001b[0m \u001b[0mn_fft\u001b[0m \u001b[0;34m=\u001b[0m \u001b[0mwindow_size\u001b[0m\u001b[0;34m,\u001b[0m \u001b[0mhop_length\u001b[0m \u001b[0;34m=\u001b[0m \u001b[0mwindow_shift\u001b[0m\u001b[0;34m)\u001b[0m\u001b[0;34m)\u001b[0m\u001b[0;34m)\u001b[0m\u001b[0;34m\u001b[0m\u001b[0;34m\u001b[0m\u001b[0m\n\u001b[0m\u001b[1;32m     12\u001b[0m     \u001b[0;32mif\u001b[0m \u001b[0mnp\u001b[0m\u001b[0;34m.\u001b[0m\u001b[0misnan\u001b[0m\u001b[0;34m(\u001b[0m\u001b[0mspectrogram\u001b[0m\u001b[0;34m)\u001b[0m\u001b[0;34m.\u001b[0m\u001b[0many\u001b[0m\u001b[0;34m(\u001b[0m\u001b[0;34m)\u001b[0m \u001b[0;32mor\u001b[0m \u001b[0mnp\u001b[0m\u001b[0;34m.\u001b[0m\u001b[0misinf\u001b[0m\u001b[0;34m(\u001b[0m\u001b[0mspectrogram\u001b[0m\u001b[0;34m)\u001b[0m\u001b[0;34m.\u001b[0m\u001b[0many\u001b[0m\u001b[0;34m(\u001b[0m\u001b[0;34m)\u001b[0m\u001b[0;34m:\u001b[0m\u001b[0;34m\u001b[0m\u001b[0;34m\u001b[0m\u001b[0m\n\u001b[1;32m     13\u001b[0m         \u001b[0mprint\u001b[0m\u001b[0;34m(\u001b[0m\u001b[0mi\u001b[0m\u001b[0;34m)\u001b[0m\u001b[0;34m\u001b[0m\u001b[0;34m\u001b[0m\u001b[0m\n",
      "\u001b[0;31mKeyboardInterrupt\u001b[0m: "
     ]
    }
   ],
   "source": [
    "dim1 = 865\n",
    "dim2 = 401\n",
    "mean = np.zeros((dim1, dim2), dtype=np.float32)\n",
    "indices = []\n",
    "\n",
    "for i in range(len(file_list)):\n",
    "    signal, sr = librosa.load(file_list[i],sr = None)\n",
    "    while np.shape(signal)[0] < time_duration*desired_sampling_rate:\n",
    "        signal = np.hstack((signal,signal))\n",
    "    signal = signal[:time_duration*desired_sampling_rate]\n",
    "    spectrogram = np.log(np.abs(librosa.stft(signal, n_fft = window_size, hop_length = window_shift)))\n",
    "    if np.isnan(spectrogram).any() or np.isinf(spectrogram).any():\n",
    "        print(i)\n",
    "        indices.append(i)\n",
    "#     mean += spectrogram\n",
    "# mean/=len(file_list)"
   ]
  },
  {
   "cell_type": "code",
   "execution_count": 33,
   "id": "27b50e41",
   "metadata": {},
   "outputs": [],
   "source": [
    "stddev = np.zeros((dim1, dim2), dtype=np.float32)\n",
    "\n",
    "for i in range(len(file_list)):\n",
    "    signal, sr = librosa.load(file_list[i],sr = None)\n",
    "    while np.shape(signal)[0] < time_duration*desired_sampling_rate:\n",
    "        signal = np.hstack((signal,signal))\n",
    "    signal = signal[:time_duration*desired_sampling_rate]\n",
    "    spectrogram = np.log(np.abs(librosa.stft(signal, n_fft = window_size, hop_length = window_shift)))\n",
    "    stddev += np.square(spectrogram-mean)\n",
    "stddev /= len(file_list)"
   ]
  },
  {
   "cell_type": "code",
   "execution_count": 36,
   "id": "9c4cddb7",
   "metadata": {},
   "outputs": [
    {
     "name": "stdout",
     "output_type": "stream",
     "text": [
      "(865, 401) (865, 401)\n",
      "10.878955 0.62597054\n",
      "0.6922224 -7.6876006\n"
     ]
    }
   ],
   "source": [
    "print(np.shape(stddev), np.shape(mean))\n",
    "print(np.max(stddev), np.min(stddev))\n",
    "print(np.max(mean), np.min(mean))"
   ]
  },
  {
   "cell_type": "code",
   "execution_count": 35,
   "id": "dad8eca3",
   "metadata": {},
   "outputs": [
    {
     "name": "stdout",
     "output_type": "stream",
     "text": [
      "False\n",
      "False\n",
      "False\n",
      "False\n"
     ]
    }
   ],
   "source": [
    "print(np.isnan(stddev).any())\n",
    "print(np.isnan(mean).any())\n",
    "print(np.isinf(stddev).any())\n",
    "print(np.isinf(mean).any())"
   ]
  },
  {
   "cell_type": "code",
   "execution_count": 5,
   "id": "6416cf2a",
   "metadata": {},
   "outputs": [
    {
     "name": "stdout",
     "output_type": "stream",
     "text": [
      "LA_E_7895059.flac\n",
      "LA_E_1106644.flac\n",
      "LA_E_3992511.flac\n",
      "LA_E_6191157.flac\n",
      "LA_E_5824255.flac\n",
      "LA_E_4504745.flac\n",
      "LA_E_7046348.flac\n",
      "LA_E_5767357.flac\n",
      "LA_E_6643121.flac\n",
      "LA_E_5850912.flac\n",
      "LA_E_1673879.flac\n",
      "LA_E_2632147.flac\n",
      "LA_E_7460617.flac\n",
      "LA_E_7700053.flac\n",
      "LA_E_7584188.flac\n",
      "LA_E_8315463.flac\n",
      "LA_E_7859467.flac\n",
      "LA_E_1852234.flac\n",
      "LA_E_7106597.flac\n",
      "LA_E_5399929.flac\n",
      "LA_E_1701239.flac\n",
      "LA_E_4283328.flac\n",
      "LA_E_7583916.flac\n",
      "LA_E_5174739.flac\n",
      "LA_E_1962392.flac\n",
      "LA_E_3165617.flac\n",
      "LA_E_6646483.flac\n",
      "LA_E_1752736.flac\n",
      "LA_E_9825308.flac\n",
      "LA_E_3642297.flac\n",
      "LA_E_1427048.flac\n",
      "LA_E_5009779.flac\n",
      "LA_E_3205014.flac\n",
      "LA_E_7128280.flac\n",
      "LA_E_4705706.flac\n",
      "LA_E_9552469.flac\n",
      "LA_E_1490345.flac\n",
      "LA_E_6029951.flac\n",
      "LA_E_6769008.flac\n",
      "LA_E_9798696.flac\n",
      "LA_E_5231140.flac\n",
      "LA_E_2486852.flac\n",
      "LA_E_2789674.flac\n",
      "LA_E_9620531.flac\n",
      "LA_E_9022340.flac\n",
      "LA_E_8933930.flac\n",
      "LA_E_3853883.flac\n",
      "LA_E_6214832.flac\n",
      "LA_E_6694683.flac\n",
      "LA_E_8968636.flac\n",
      "LA_E_1561994.flac\n",
      "LA_E_3260684.flac\n",
      "LA_E_5379051.flac\n",
      "LA_E_3897755.flac\n",
      "LA_E_7502691.flac\n",
      "LA_E_8656850.flac\n",
      "LA_E_3394365.flac\n",
      "LA_E_4166352.flac\n",
      "LA_E_3434073.flac\n",
      "LA_E_9172065.flac\n"
     ]
    }
   ],
   "source": [
    "for index in indices:\n",
    "    print(file_list[index][21:])\n",
    "    # os.remove(file_list[index])"
   ]
  },
  {
   "cell_type": "code",
   "execution_count": 37,
   "id": "832f6e14",
   "metadata": {},
   "outputs": [],
   "source": [
    "np.savetxt(\"training_data_mean.txt\", mean)\n",
    "np.savetxt(\"training_data_stddev.txt\", mean)"
   ]
  },
  {
   "cell_type": "code",
   "execution_count": null,
   "id": "892634b0",
   "metadata": {},
   "outputs": [],
   "source": []
  }
 ],
 "metadata": {
  "kernelspec": {
   "display_name": "Python 3",
   "language": "python",
   "name": "python3"
  },
  "language_info": {
   "codemirror_mode": {
    "name": "ipython",
    "version": 3
   },
   "file_extension": ".py",
   "mimetype": "text/x-python",
   "name": "python",
   "nbconvert_exporter": "python",
   "pygments_lexer": "ipython3",
   "version": "3.8.10"
  }
 },
 "nbformat": 4,
 "nbformat_minor": 5
}
