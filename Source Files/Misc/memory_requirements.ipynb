{
 "cells": [
  {
   "cell_type": "code",
   "execution_count": 1,
   "id": "25889fd1",
   "metadata": {},
   "outputs": [],
   "source": [
    "import numpy as np\n",
    "import librosa\n",
    "import os\n",
    "import glob\n",
    "import gc\n",
    "import tensorflow as tf\n",
    "from tensorflow import keras\n",
    "import json\n",
    "\n",
    "# from google.colab import drive\n",
    "# drive.mount('/content/gdrive')\n",
    "driveLoc='../'"
   ]
  },
  {
   "cell_type": "code",
   "execution_count": 12,
   "id": "7d74a3df",
   "metadata": {},
   "outputs": [],
   "source": [
    "def get_model_memory_usage(batch_size, model):\n",
    "    import numpy as np\n",
    "    try:\n",
    "        from keras import backend as K\n",
    "    except:\n",
    "        from tensorflow.keras import backend as K\n",
    "\n",
    "    shapes_mem_count = 0\n",
    "    internal_model_mem_count = 0\n",
    "    for l in model.layers:\n",
    "        layer_type = l.__class__.__name__\n",
    "        if layer_type == 'Model':\n",
    "            internal_model_mem_count += get_model_memory_usage(batch_size, l)\n",
    "        single_layer_mem = 1\n",
    "        out_shape = l.output_shape\n",
    "        if type(out_shape) is list:\n",
    "            out_shape = out_shape[0]\n",
    "        for s in out_shape:\n",
    "            if s is None:\n",
    "                continue\n",
    "            single_layer_mem *= s\n",
    "        shapes_mem_count += single_layer_mem\n",
    "\n",
    "    trainable_count = np.sum([K.count_params(p) for p in model.trainable_weights])\n",
    "    non_trainable_count = np.sum([K.count_params(p) for p in model.non_trainable_weights])\n",
    "\n",
    "    number_size = 4.0\n",
    "    if K.floatx() == 'float16':\n",
    "        number_size = 2.0\n",
    "    if K.floatx() == 'float64':\n",
    "        number_size = 8.0\n",
    "\n",
    "    total_memory = number_size * (batch_size * shapes_mem_count + trainable_count + non_trainable_count)\n",
    "    gbytes = np.round(total_memory / (1024.0 ** 3), 3) + internal_model_mem_count\n",
    "    return gbytes\n"
   ]
  },
  {
   "cell_type": "code",
   "execution_count": 13,
   "id": "0ac75bcb",
   "metadata": {},
   "outputs": [
    {
     "name": "stdout",
     "output_type": "stream",
     "text": [
      "0.064\n"
     ]
    }
   ],
   "source": [
    "print(get_model_memory_usage(128,model1))"
   ]
  },
  {
   "cell_type": "code",
   "execution_count": 11,
   "id": "dc866815",
   "metadata": {},
   "outputs": [
    {
     "name": "stdout",
     "output_type": "stream",
     "text": [
      "Model: \"sequential_107\"\n",
      "_________________________________________________________________\n",
      "Layer (type)                 Output Shape              Param #   \n",
      "=================================================================\n",
      "conv2d_386 (Conv2D)          (None, 45, 235, 4)        40        \n",
      "_________________________________________________________________\n",
      "batch_normalization_463 (Bat (None, 45, 235, 4)        16        \n",
      "_________________________________________________________________\n",
      "max_pooling2d_213 (MaxPoolin (None, 22, 117, 4)        0         \n",
      "_________________________________________________________________\n",
      "conv2d_387 (Conv2D)          (None, 19, 114, 4)        260       \n",
      "_________________________________________________________________\n",
      "batch_normalization_464 (Bat (None, 19, 114, 4)        16        \n",
      "_________________________________________________________________\n",
      "conv2d_388 (Conv2D)          (None, 17, 112, 4)        148       \n",
      "_________________________________________________________________\n",
      "batch_normalization_465 (Bat (None, 17, 112, 4)        16        \n",
      "_________________________________________________________________\n",
      "max_pooling2d_214 (MaxPoolin (None, 8, 56, 4)          0         \n",
      "_________________________________________________________________\n",
      "conv2d_389 (Conv2D)          (None, 5, 53, 4)          260       \n",
      "_________________________________________________________________\n",
      "batch_normalization_466 (Bat (None, 5, 53, 4)          16        \n",
      "_________________________________________________________________\n",
      "conv2d_390 (Conv2D)          (None, 3, 51, 4)          148       \n",
      "_________________________________________________________________\n",
      "batch_normalization_467 (Bat (None, 3, 51, 4)          16        \n",
      "_________________________________________________________________\n",
      "max_pooling2d_215 (MaxPoolin (None, 1, 25, 4)          0         \n",
      "_________________________________________________________________\n",
      "flatten_102 (Flatten)        (None, 100)               0         \n",
      "_________________________________________________________________\n",
      "dropout_204 (Dropout)        (None, 100)               0         \n",
      "_________________________________________________________________\n",
      "dense_408 (Dense)            (None, 64)                6464      \n",
      "_________________________________________________________________\n",
      "dense_409 (Dense)            (None, 64)                4160      \n",
      "_________________________________________________________________\n",
      "batch_normalization_468 (Bat (None, 64)                256       \n",
      "_________________________________________________________________\n",
      "dropout_205 (Dropout)        (None, 64)                0         \n",
      "_________________________________________________________________\n",
      "dense_410 (Dense)            (None, 32)                2080      \n",
      "_________________________________________________________________\n",
      "dense_411 (Dense)            (None, 2)                 66        \n",
      "=================================================================\n",
      "Total params: 13,962\n",
      "Trainable params: 13,794\n",
      "Non-trainable params: 168\n",
      "_________________________________________________________________\n"
     ]
    }
   ],
   "source": [
    "model1 = keras.models.load_model('..//Models2/20_june03/10')\n",
    "model1.summary()"
   ]
  },
  {
   "cell_type": "code",
   "execution_count": 9,
   "id": "343e76db",
   "metadata": {},
   "outputs": [
    {
     "name": "stdout",
     "output_type": "stream",
     "text": [
      "Model: \"sequential_24\"\n",
      "_________________________________________________________________\n",
      "Layer (type)                 Output Shape              Param #   \n",
      "=================================================================\n",
      "conv2d_162 (Conv2D)          (None, 45, 235, 4)        40        \n",
      "_________________________________________________________________\n",
      "batch_normalization_183 (Bat (None, 45, 235, 4)        16        \n",
      "_________________________________________________________________\n",
      "conv2d_163 (Conv2D)          (None, 42, 232, 4)        260       \n",
      "_________________________________________________________________\n",
      "batch_normalization_184 (Bat (None, 42, 232, 4)        16        \n",
      "_________________________________________________________________\n",
      "conv2d_164 (Conv2D)          (None, 40, 230, 4)        148       \n",
      "_________________________________________________________________\n",
      "batch_normalization_185 (Bat (None, 40, 230, 4)        16        \n",
      "_________________________________________________________________\n",
      "max_pooling2d_69 (MaxPooling (None, 20, 115, 4)        0         \n",
      "_________________________________________________________________\n",
      "conv2d_165 (Conv2D)          (None, 17, 112, 4)        260       \n",
      "_________________________________________________________________\n",
      "batch_normalization_186 (Bat (None, 17, 112, 4)        16        \n",
      "_________________________________________________________________\n",
      "conv2d_166 (Conv2D)          (None, 15, 110, 4)        148       \n",
      "_________________________________________________________________\n",
      "batch_normalization_187 (Bat (None, 15, 110, 4)        16        \n",
      "_________________________________________________________________\n",
      "max_pooling2d_70 (MaxPooling (None, 7, 55, 4)          0         \n",
      "_________________________________________________________________\n",
      "conv2d_167 (Conv2D)          (None, 6, 54, 4)          68        \n",
      "_________________________________________________________________\n",
      "batch_normalization_188 (Bat (None, 6, 54, 4)          16        \n",
      "_________________________________________________________________\n",
      "conv2d_168 (Conv2D)          (None, 4, 52, 4)          148       \n",
      "_________________________________________________________________\n",
      "batch_normalization_189 (Bat (None, 4, 52, 4)          16        \n",
      "_________________________________________________________________\n",
      "max_pooling2d_71 (MaxPooling (None, 2, 26, 4)          0         \n",
      "_________________________________________________________________\n",
      "flatten_22 (Flatten)         (None, 208)               0         \n",
      "_________________________________________________________________\n",
      "dropout_44 (Dropout)         (None, 208)               0         \n",
      "_________________________________________________________________\n",
      "dense_88 (Dense)             (None, 64)                13376     \n",
      "_________________________________________________________________\n",
      "dense_89 (Dense)             (None, 64)                4160      \n",
      "_________________________________________________________________\n",
      "batch_normalization_190 (Bat (None, 64)                256       \n",
      "_________________________________________________________________\n",
      "dropout_45 (Dropout)         (None, 64)                0         \n",
      "_________________________________________________________________\n",
      "dense_90 (Dense)             (None, 32)                2080      \n",
      "_________________________________________________________________\n",
      "dense_91 (Dense)             (None, 2)                 66        \n",
      "=================================================================\n",
      "Total params: 21,122\n",
      "Trainable params: 20,938\n",
      "Non-trainable params: 184\n",
      "_________________________________________________________________\n"
     ]
    }
   ],
   "source": [
    "model2 = keras.models.load_model('..//Models3/21_june03/13')\n",
    "model2.summary()"
   ]
  },
  {
   "cell_type": "code",
   "execution_count": 8,
   "id": "37457cc8",
   "metadata": {},
   "outputs": [
    {
     "name": "stdout",
     "output_type": "stream",
     "text": [
      "21_june03\n",
      "..//Models3/21_june03/13\n",
      "21_june01\n",
      "..//Models3/21_june01/13\n",
      "21_june07\n",
      "..//Models3/21_june07/13\n",
      "21_june05\n",
      "..//Models3/21_june05/13\n",
      "21_june04\n",
      "..//Models3/21_june04/13\n",
      "21_june02\n",
      "..//Models3/21_june02/13\n",
      "21_june10\n",
      "..//Models3/21_june10/13\n",
      "21_june08\n",
      "..//Models3/21_june08/13\n",
      "21_june09\n",
      "..//Models3/21_june09/13\n",
      "21_june06\n",
      "..//Models3/21_june06/13\n"
     ]
    }
   ],
   "source": [
    "for model_name in os.listdir(driveLoc+'/Models3'):\n",
    "    print(model_name)\n",
    "    print(driveLoc+'/Models3/' + model_name+'/13')\n",
    "    # model = keras.models.load_model(driveLoc+'/Models3/' + model_name+'/13')\n",
    "#     models.append(keras.models.load_model(driveLoc+'/Models3/' + model_name+'/13'))\n",
    "#     results.append([0,0])\n",
    "#     y_pred.append([])"
   ]
  },
  {
   "cell_type": "code",
   "execution_count": null,
   "id": "62a4f9a2",
   "metadata": {},
   "outputs": [],
   "source": []
  }
 ],
 "metadata": {
  "kernelspec": {
   "display_name": "Python 3",
   "language": "python",
   "name": "python3"
  },
  "language_info": {
   "codemirror_mode": {
    "name": "ipython",
    "version": 3
   },
   "file_extension": ".py",
   "mimetype": "text/x-python",
   "name": "python",
   "nbconvert_exporter": "python",
   "pygments_lexer": "ipython3",
   "version": "3.8.10"
  }
 },
 "nbformat": 4,
 "nbformat_minor": 5
}
