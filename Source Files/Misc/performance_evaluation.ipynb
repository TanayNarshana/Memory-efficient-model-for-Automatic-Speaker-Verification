{
 "cells": [
  {
   "cell_type": "code",
   "execution_count": 1,
   "metadata": {
    "colab": {
     "base_uri": "https://localhost:8080/"
    },
    "executionInfo": {
     "elapsed": 28374,
     "status": "ok",
     "timestamp": 1624097664129,
     "user": {
      "displayName": "Tanay Narshana",
      "photoUrl": "",
      "userId": "06532289150865358573"
     },
     "user_tz": -330
    },
    "id": "9sG2uDzLf6nE",
    "outputId": "d492f963-a40e-40e4-afc6-b57ad2940418"
   },
   "outputs": [],
   "source": [
    "import numpy as np\n",
    "import librosa\n",
    "import os\n",
    "import glob\n",
    "import gc\n",
    "import tensorflow as tf\n",
    "from tensorflow import keras\n",
    "import json\n",
    "\n",
    "# from google.colab import drive\n",
    "# drive.mount('/content/gdrive')\n",
    "driveLoc='../'"
   ]
  },
  {
   "cell_type": "code",
   "execution_count": 2,
   "metadata": {
    "id": "QRtRf0qBgGGG"
   },
   "outputs": [],
   "source": [
    "training_samples = 4000\n",
    "validation_samples = 400\n",
    "ratio_of_bonafide_samples = 0.5\n",
    "data_iterations = 10\n",
    "epochs_per_iteration = 5\n",
    "size_of_batch = 128\n",
    "alpha = 0.001 #learning_rate"
   ]
  },
  {
   "cell_type": "code",
   "execution_count": 3,
   "metadata": {
    "id": "X-HHPFPsgPV1"
   },
   "outputs": [],
   "source": [
    "bonafide_label = 0 #not-fake\n",
    "\n",
    "desired_sampling_rate = 16000 # in Hz\n",
    "time_duration = 4 # in seconds\n",
    "\n",
    "window_size = 108 #in ms\n",
    "window_shift = 10 #in ms\n",
    "pointFFT = 1728\n",
    "\n",
    "data_loc = driveLoc + 'CQCC/'\n",
    "\n",
    "samples_per_folder = 500\n",
    "\n",
    "window_size = int(window_size*desired_sampling_rate/1000) # converting to samples\n",
    "window_shift = int(window_shift*desired_sampling_rate/1000) # converting to samples"
   ]
  },
  {
   "cell_type": "code",
   "execution_count": 4,
   "metadata": {
    "colab": {
     "base_uri": "https://localhost:8080/"
    },
    "executionInfo": {
     "elapsed": 2377,
     "status": "ok",
     "timestamp": 1624097744377,
     "user": {
      "displayName": "Tanay Narshana",
      "photoUrl": "",
      "userId": "06532289150865358573"
     },
     "user_tz": -330
    },
    "id": "llGIkM66gQvX",
    "outputId": "7b0810ab-cbb7-4c65-e357-9c8fdaacc06c"
   },
   "outputs": [
    {
     "name": "stdout",
     "output_type": "stream",
     "text": [
      "90 469\n"
     ]
    }
   ],
   "source": [
    "training_data_mean = np.loadtxt(data_loc+'train_mean_CQCC.txt', delimiter=',')\n",
    "training_data_stddev = np.loadtxt(data_loc+'train_stddev_CQCC.txt', delimiter=',')\n",
    "(dim1, dim2) = np.shape(training_data_mean)\n",
    "print(dim1, dim2)\n",
    "\n",
    "def GenerateFeatures(filename): #Generates Normalized Features\n",
    "    features = np.loadtxt(filename, delimiter=',')\n",
    "    return (features-training_data_mean)/training_data_stddev"
   ]
  },
  {
   "cell_type": "code",
   "execution_count": 5,
   "metadata": {},
   "outputs": [],
   "source": [
    "with open(data_loc + \"bonafide_test_set_files.txt\", \"r\") as fp:\n",
    "    bonafide_test_files = json.load(fp)\n",
    "\n",
    "with open(data_loc + \"spoof_test_set_files.txt\", \"r\") as fp:\n",
    "    spoof_test_files = json.load(fp)"
   ]
  },
  {
   "cell_type": "code",
   "execution_count": 6,
   "metadata": {
    "colab": {
     "base_uri": "https://localhost:8080/"
    },
    "executionInfo": {
     "elapsed": 28,
     "status": "ok",
     "timestamp": 1624097751041,
     "user": {
      "displayName": "Tanay Narshana",
      "photoUrl": "",
      "userId": "06532289150865358573"
     },
     "user_tz": -330
    },
    "id": "tdOIqjAZtRsN",
    "outputId": "b5b07c46-667d-4c96-88ec-7335a6c2a718"
   },
   "outputs": [
    {
     "name": "stdout",
     "output_type": "stream",
     "text": [
      "4400 500\n"
     ]
    }
   ],
   "source": [
    "#Checknig spoof and bonafide files\n",
    "from collections import Counter\n",
    "a, b = len(Counter(spoof_test_files).keys()),len(Counter(bonafide_test_files).keys())\n",
    "print(a,b)\n"
   ]
  },
  {
   "cell_type": "code",
   "execution_count": 7,
   "metadata": {},
   "outputs": [
    {
     "name": "stdout",
     "output_type": "stream",
     "text": [
      "../CQCC/train/bonafide_4/LA_T_2170687.txt\n",
      "37\n"
     ]
    }
   ],
   "source": [
    "print('..'+ bonafide_test_files[0][37:])\n",
    "print(len('/content/gdrive/My Drive/MLSP Project'))"
   ]
  },
  {
   "cell_type": "markdown",
   "metadata": {
    "id": "TdFybGiT0SJs"
   },
   "source": [
    "# Perofrmance on Test data"
   ]
  },
  {
   "cell_type": "code",
   "execution_count": 8,
   "metadata": {
    "colab": {
     "base_uri": "https://localhost:8080/",
     "height": 231
    },
    "executionInfo": {
     "elapsed": 4693827,
     "status": "error",
     "timestamp": 1624080784481,
     "user": {
      "displayName": "Tanay Narshana",
      "photoUrl": "",
      "userId": "06532289150865358573"
     },
     "user_tz": -330
    },
    "id": "2rh8iRb15tyc",
    "outputId": "fe142757-cbfa-4c3b-987d-206d49d31260"
   },
   "outputs": [
    {
     "name": "stdout",
     "output_type": "stream",
     "text": [
      "21_june03\n",
      "21_june01\n",
      "21_june07\n",
      "21_june05\n",
      "21_june04\n",
      "21_june02\n",
      "21_june10\n",
      "21_june08\n",
      "21_june09\n",
      "21_june06\n",
      "WARNING:tensorflow:5 out of the last 5 calls to <function Model.make_predict_function.<locals>.predict_function at 0x7f3509e52a60> triggered tf.function retracing. Tracing is expensive and the excessive number of tracings could be due to (1) creating @tf.function repeatedly in a loop, (2) passing tensors with different shapes, (3) passing Python objects instead of tensors. For (1), please define your @tf.function outside of the loop. For (2), @tf.function has experimental_relax_shapes=True option that relaxes argument shapes that can avoid unnecessary retracing. For (3), please refer to https://www.tensorflow.org/guide/function#controlling_retracing and https://www.tensorflow.org/api_docs/python/tf/function for  more details.\n",
      "WARNING:tensorflow:6 out of the last 6 calls to <function Model.make_predict_function.<locals>.predict_function at 0x7f351d4e00d0> triggered tf.function retracing. Tracing is expensive and the excessive number of tracings could be due to (1) creating @tf.function repeatedly in a loop, (2) passing tensors with different shapes, (3) passing Python objects instead of tensors. For (1), please define your @tf.function outside of the loop. For (2), @tf.function has experimental_relax_shapes=True option that relaxes argument shapes that can avoid unnecessary retracing. For (3), please refer to https://www.tensorflow.org/guide/function#controlling_retracing and https://www.tensorflow.org/api_docs/python/tf/function for  more details.\n"
     ]
    }
   ],
   "source": [
    "# Testing data \n",
    "from sklearn.metrics import accuracy_score,f1_score\n",
    "\n",
    "\n",
    "results = [] # for each model accuracy and f1 score\n",
    "models=[]\n",
    "for model_name in os.listdir(driveLoc+'/Models3'):\n",
    "    print(model_name)\n",
    "    models.append(keras.models.load_model(driveLoc+'/Models3/' + model_name+'/13'))\n",
    "    results.append([0,0])\n",
    "    \n",
    "    \n",
    "y_pred = np.zeros((len(models),len(spoof_test_files) + len(bonafide_test_files))) # depends on model index\n",
    "y_true=np.append(np.ones(len(spoof_test_files)),np.zeros(len(bonafide_test_files)))\n",
    "sample_no = 0\n",
    "for filename in spoof_test_files:\n",
    "    a = GenerateFeatures('..'+ filename[37:])\n",
    "    if np.isnan(a).any() or np.isinf(a).any():\n",
    "        for i in range(len(models)):\n",
    "            y_pred[i,sample_no] = 1\n",
    "    else:\n",
    "        dim1,dim2 = a.shape\n",
    "        a=a.reshape((1,dim1,dim2,1))\n",
    "        for i in range(len(models)):\n",
    "            y_pred[i,sample_no]=(np.argmax(models[i].predict(a)))\n",
    "    sample_no+=1\n",
    "        \n",
    "for filename in bonafide_test_files:\n",
    "    a = GenerateFeatures('..'+ filename[37:])\n",
    "    dim1,dim2 = a.shape\n",
    "    a=a.reshape((1,dim1,dim2,1))\n",
    "    for i in range(len(models)):\n",
    "        y_pred[i,sample_no]=(np.argmax(models[i].predict(a)))\n",
    "    sample_no+=1\n",
    "\n",
    "np.savetxt('prediction_for_models.txt',y_pred)\n",
    "\n",
    "\n"
   ]
  },
  {
   "cell_type": "markdown",
   "metadata": {
    "id": "8CZlUvD00Xai"
   },
   "source": [
    "# Accuracy and F1 score "
   ]
  },
  {
   "cell_type": "code",
   "execution_count": 9,
   "metadata": {
    "colab": {
     "base_uri": "https://localhost:8080/"
    },
    "executionInfo": {
     "elapsed": 428,
     "status": "ok",
     "timestamp": 1624080975402,
     "user": {
      "displayName": "Tanay Narshana",
      "photoUrl": "",
      "userId": "06532289150865358573"
     },
     "user_tz": -330
    },
    "id": "dopwanc6xHJ4",
    "outputId": "08fd6a95-4489-4e83-f293-6d187651cd7c"
   },
   "outputs": [
    {
     "name": "stdout",
     "output_type": "stream",
     "text": [
      "[[0.9993877551020408, 0.9996592070884925], [0.9979591836734694, 0.9988633780404638], [0.9997959183673469, 0.9998863765481194], [0.9981632653061224, 0.998976691301876], [0.9989795918367347, 0.9994317536083646], [0.9991836734693877, 0.9995455578277663], [0.9993877551020408, 0.999658974650449], [1.0, 1.0], [0.9995918367346939, 0.9997727272727273], [0.9993877551020408, 0.9996590521650188]]\n"
     ]
    }
   ],
   "source": [
    "for i in range(len(models)):\n",
    "    results[i][1] = f1_score(y_true, y_pred[i])\n",
    "    results[i][0] = accuracy_score(y_true, y_pred[i])\n",
    "\n",
    "print(results)"
   ]
  },
  {
   "cell_type": "markdown",
   "metadata": {
    "id": "hXvi0v9VzRW_"
   },
   "source": [
    "# Performance on Eval Data\n"
   ]
  },
  {
   "cell_type": "code",
   "execution_count": 15,
   "metadata": {},
   "outputs": [
    {
     "name": "stdout",
     "output_type": "stream",
     "text": [
      "Model: \"sequential_25\"\n",
      "_________________________________________________________________\n",
      "Layer (type)                 Output Shape              Param #   \n",
      "=================================================================\n",
      "conv2d_169 (Conv2D)          (None, 45, 235, 4)        40        \n",
      "_________________________________________________________________\n",
      "batch_normalization_191 (Bat (None, 45, 235, 4)        16        \n",
      "_________________________________________________________________\n",
      "conv2d_170 (Conv2D)          (None, 42, 232, 4)        260       \n",
      "_________________________________________________________________\n",
      "batch_normalization_192 (Bat (None, 42, 232, 4)        16        \n",
      "_________________________________________________________________\n",
      "conv2d_171 (Conv2D)          (None, 40, 230, 4)        148       \n",
      "_________________________________________________________________\n",
      "batch_normalization_193 (Bat (None, 40, 230, 4)        16        \n",
      "_________________________________________________________________\n",
      "max_pooling2d_72 (MaxPooling (None, 20, 115, 4)        0         \n",
      "_________________________________________________________________\n",
      "conv2d_172 (Conv2D)          (None, 17, 112, 4)        260       \n",
      "_________________________________________________________________\n",
      "batch_normalization_194 (Bat (None, 17, 112, 4)        16        \n",
      "_________________________________________________________________\n",
      "conv2d_173 (Conv2D)          (None, 15, 110, 4)        148       \n",
      "_________________________________________________________________\n",
      "batch_normalization_195 (Bat (None, 15, 110, 4)        16        \n",
      "_________________________________________________________________\n",
      "max_pooling2d_73 (MaxPooling (None, 7, 55, 4)          0         \n",
      "_________________________________________________________________\n",
      "conv2d_174 (Conv2D)          (None, 6, 54, 4)          68        \n",
      "_________________________________________________________________\n",
      "batch_normalization_196 (Bat (None, 6, 54, 4)          16        \n",
      "_________________________________________________________________\n",
      "conv2d_175 (Conv2D)          (None, 4, 52, 4)          148       \n",
      "_________________________________________________________________\n",
      "batch_normalization_197 (Bat (None, 4, 52, 4)          16        \n",
      "_________________________________________________________________\n",
      "max_pooling2d_74 (MaxPooling (None, 2, 26, 4)          0         \n",
      "_________________________________________________________________\n",
      "flatten_23 (Flatten)         (None, 208)               0         \n",
      "_________________________________________________________________\n",
      "dropout_46 (Dropout)         (None, 208)               0         \n",
      "_________________________________________________________________\n",
      "dense_92 (Dense)             (None, 64)                13376     \n",
      "_________________________________________________________________\n",
      "dense_93 (Dense)             (None, 64)                4160      \n",
      "_________________________________________________________________\n",
      "batch_normalization_198 (Bat (None, 64)                256       \n",
      "_________________________________________________________________\n",
      "dropout_47 (Dropout)         (None, 64)                0         \n",
      "_________________________________________________________________\n",
      "dense_94 (Dense)             (None, 32)                2080      \n",
      "_________________________________________________________________\n",
      "dense_95 (Dense)             (None, 2)                 66        \n",
      "=================================================================\n",
      "Total params: 21,122\n",
      "Trainable params: 20,938\n",
      "Non-trainable params: 184\n",
      "_________________________________________________________________\n"
     ]
    }
   ],
   "source": [
    "model = keras.models.load_model(driveLoc+'/Models3/21_june04/13')\n",
    "model.summary()"
   ]
  },
  {
   "cell_type": "code",
   "execution_count": 11,
   "metadata": {
    "colab": {
     "background_save": true,
     "base_uri": "https://localhost:8080/"
    },
    "id": "eTpmr4Kdxb4Z",
    "outputId": "17324eb4-a856-4b6a-c230-76a2866a1220"
   },
   "outputs": [
    {
     "name": "stdout",
     "output_type": "stream",
     "text": [
      "21_june03\n",
      "21_june01\n",
      "21_june07\n",
      "21_june05\n",
      "21_june04\n",
      "21_june02\n",
      "21_june10\n",
      "21_june08\n",
      "21_june09\n",
      "21_june06\n",
      "1 spoof_120\n",
      "2 spoof_68\n",
      "3 spoof_21\n",
      "4 spoof_42\n",
      "5 spoof_51\n",
      "6 spoof_87\n",
      "7 spoof_28\n",
      "8 spoof_111\n",
      "9 spoof_47\n",
      "10 spoof_34\n",
      "11 spoof_91\n",
      "12 spoof_22\n",
      "13 spoof_95\n",
      "14 spoof_39\n",
      "15 spoof_59\n",
      "16 spoof_63\n",
      "17 spoof_56\n",
      "18 spoof_84\n",
      "19 spoof_117\n",
      "20 spoof_53\n",
      "21 spoof_36\n",
      "22 spoof_67\n",
      "23 spoof_123\n",
      "24 spoof_112\n",
      "25 spoof_82\n",
      "26 spoof_1\n",
      "27 spoof_106\n",
      "28 spoof_121\n",
      "29 spoof_8\n",
      "30 spoof_9\n",
      "31 spoof_27\n",
      "32 spoof_19\n",
      "33 spoof_35\n",
      "34 spoof_41\n",
      "35 spoof_99\n",
      "36 spoof_55\n",
      "37 spoof_17\n",
      "38 spoof_48\n",
      "39 bonafide_8\n",
      "40 spoof_66\n",
      "41 spoof_75\n",
      "42 bonafide_1\n",
      "43 spoof_43\n",
      "44 spoof_113\n",
      "45 bonafide_0\n",
      "46 spoof_89\n",
      "47 spoof_73\n",
      "48 spoof_115\n",
      "49 spoof_118\n",
      "50 spoof_74\n",
      "51 spoof_25\n",
      "52 spoof_5\n",
      "53 spoof_16\n",
      "54 spoof_61\n",
      "55 spoof_101\n",
      "56 spoof_46\n",
      "57 spoof_3\n",
      "58 spoof_76\n",
      "59 spoof_50\n",
      "60 spoof_33\n",
      "61 spoof_110\n",
      "62 spoof_40\n",
      "63 spoof_94\n",
      "64 spoof_23\n",
      "65 bonafide_10\n",
      "66 spoof_85\n",
      "67 spoof_103\n",
      "68 spoof_13\n",
      "69 spoof_4\n",
      "70 spoof_72\n",
      "71 spoof_58\n",
      "72 bonafide_12\n",
      "73 spoof_14\n",
      "74 spoof_122\n",
      "75 spoof_49\n",
      "76 spoof_52\n",
      "77 spoof_44\n",
      "78 spoof_15\n",
      "79 spoof_88\n",
      "80 spoof_29\n",
      "81 bonafide_13\n",
      "82 spoof_62\n",
      "83 spoof_12\n",
      "84 spoof_7\n",
      "85 spoof_77\n",
      "86 spoof_20\n",
      "87 spoof_86\n",
      "88 bonafide_4\n",
      "89 spoof_79\n",
      "90 spoof_90\n",
      "91 spoof_6\n",
      "92 bonafide_7\n",
      "93 spoof_124\n",
      "94 bonafide_6\n",
      "95 spoof_38\n",
      "96 spoof_26\n",
      "97 spoof_93\n",
      "98 spoof_92\n",
      "99 spoof_64\n",
      "100 bonafide_2\n",
      "101 spoof_69\n",
      "102 spoof_57\n",
      "103 spoof_54\n",
      "104 spoof_116\n",
      "105 spoof_125\n",
      "106 spoof_107\n",
      "107 bonafide_5\n",
      "108 spoof_83\n",
      "109 spoof_37\n",
      "110 spoof_96\n",
      "111 spoof_119\n",
      "112 spoof_70\n",
      "113 spoof_105\n",
      "114 spoof_31\n",
      "115 spoof_24\n",
      "116 spoof_10\n",
      "117 spoof_0\n",
      "118 spoof_81\n",
      "119 bonafide_11\n",
      "120 spoof_109\n",
      "121 spoof_18\n",
      "122 spoof_32\n",
      "123 bonafide_14\n",
      "124 spoof_45\n",
      "125 bonafide_3\n",
      "126 spoof_11\n",
      "127 spoof_127\n",
      "128 spoof_65\n",
      "129 spoof_97\n",
      "130 spoof_114\n",
      "131 spoof_100\n",
      "132 spoof_78\n",
      "133 spoof_102\n",
      "134 spoof_80\n",
      "135 spoof_98\n",
      "136 spoof_104\n",
      "137 bonafide_9\n",
      "138 spoof_108\n",
      "139 spoof_30\n",
      "140 spoof_2\n",
      "141 spoof_60\n",
      "142 spoof_126\n",
      "143 spoof_71\n"
     ]
    }
   ],
   "source": [
    "# Eval data :\n",
    "from sklearn.metrics import accuracy_score,f1_score\n",
    "\n",
    "\n",
    "results = [] # for each model accuracy and f1 score\n",
    "y_true=[]\n",
    "y_pred=[]\n",
    "models=[]\n",
    "for model_name in os.listdir(driveLoc+'/Models3'):\n",
    "    print(model_name)\n",
    "    models.append(keras.models.load_model(driveLoc+'/Models3/' + model_name+'/13'))\n",
    "    results.append([0,0])\n",
    "    y_pred.append([])\n",
    "\n",
    "    \n",
    "    \n",
    "\n",
    "\n",
    "\n",
    "COUNT = 0\n",
    "for foldername in os.listdir(driveLoc+'/CQCC/eval'):\n",
    "    COUNT += 1\n",
    "    print(COUNT, foldername)\n",
    "    for filename in os.listdir(driveLoc+'/CQCC/eval/'+foldername):\n",
    "        try:\n",
    "            a = GenerateFeatures(driveLoc + '/CQCC/eval/'+foldername+'/'+filename)\n",
    "        except:\n",
    "            print(foldername, filename)\n",
    "            continue\n",
    "        if 'bonafide' in foldername : \n",
    "            y_true.append(0)\n",
    "        else: y_true.append(1)\n",
    "\n",
    "        if np.isnan(a).any() or np.isinf(a).any():\n",
    "            for i in range(len(models)):\n",
    "                y_pred[i].append('spoof' in foldername)\n",
    "        else:\n",
    "            dim1,dim2 = a.shape\n",
    "            a=a.reshape((1,dim1,dim2,1))\n",
    "            for i in range(len(models)):\n",
    "                y_pred[i].append(np.argmax(models[i].predict(a)))\n",
    "        \n",
    "\n",
    "np.savetxt('eval_predictions_CQCC2.txt',y_pred)\n",
    "np.savetxt('eval_label_CQCC2.txt',y_true)\n"
   ]
  },
  {
   "cell_type": "code",
   "execution_count": 12,
   "metadata": {
    "colab": {
     "base_uri": "https://localhost:8080/"
    },
    "executionInfo": {
     "elapsed": 1157,
     "status": "ok",
     "timestamp": 1624117422215,
     "user": {
      "displayName": "Tanay Narshana",
      "photoUrl": "",
      "userId": "06532289150865358573"
     },
     "user_tz": -330
    },
    "id": "tjqmVQiG4yXp",
    "outputId": "d0e140d9-0737-4bba-cf8b-5b5f7772d7d4"
   },
   "outputs": [
    {
     "name": "stdout",
     "output_type": "stream",
     "text": [
      "[[0.6279180762805845, 0.738656307310051], [0.6426435700548873, 0.7514523105161928], [0.6581692098207392, 0.7646586966396381], [0.6629279728231116, 0.7688130632365401], [0.701573620450047, 0.8005479092196984], [0.6515715148027008, 0.7590732166603573], [0.6356107079186378, 0.745260058881256], [0.6333646840827099, 0.7432918558707319], [0.6357651220573578, 0.7453105215112342], [0.6366354562937799, 0.7461483392011298]]\n"
     ]
    }
   ],
   "source": [
    "for i in range(len(models)):\n",
    "    results[i][1] = f1_score(y_true, y_pred[i])\n",
    "    results[i][0] = accuracy_score(y_true, y_pred[i])\n",
    "\n",
    "print(results)"
   ]
  },
  {
   "cell_type": "code",
   "execution_count": 13,
   "metadata": {},
   "outputs": [
    {
     "name": "stdout",
     "output_type": "stream",
     "text": [
      "Current Time = 22:14:06\n"
     ]
    }
   ],
   "source": [
    "from datetime import datetime\n",
    "\n",
    "now = datetime.now()\n",
    "\n",
    "current_time = now.strftime(\"%H:%M:%S\")\n",
    "print(\"Current Time =\", current_time)"
   ]
  },
  {
   "cell_type": "code",
   "execution_count": 14,
   "metadata": {},
   "outputs": [
    {
     "name": "stdout",
     "output_type": "stream",
     "text": [
      "Model 0...\n",
      "Bonafide Samples = 7355, Incorrectly classified = 82\n",
      "Spoof Samples = 63882, Incorrectly classified = 26424\n",
      "Model 1...\n",
      "Bonafide Samples = 7355, Incorrectly classified = 58\n",
      "Spoof Samples = 63882, Incorrectly classified = 25399\n",
      "Model 2...\n",
      "Bonafide Samples = 7355, Incorrectly classified = 29\n",
      "Spoof Samples = 63882, Incorrectly classified = 24322\n",
      "Model 3...\n",
      "Bonafide Samples = 7355, Incorrectly classified = 56\n",
      "Spoof Samples = 63882, Incorrectly classified = 23956\n",
      "Model 4...\n",
      "Bonafide Samples = 7355, Incorrectly classified = 41\n",
      "Spoof Samples = 63882, Incorrectly classified = 21218\n",
      "Model 5...\n",
      "Bonafide Samples = 7355, Incorrectly classified = 40\n",
      "Spoof Samples = 63882, Incorrectly classified = 24781\n",
      "Model 6...\n",
      "Bonafide Samples = 7355, Incorrectly classified = 47\n",
      "Spoof Samples = 63882, Incorrectly classified = 25911\n",
      "Model 7...\n",
      "Bonafide Samples = 7355, Incorrectly classified = 48\n",
      "Spoof Samples = 63882, Incorrectly classified = 26070\n",
      "Model 8...\n",
      "Bonafide Samples = 7355, Incorrectly classified = 30\n",
      "Spoof Samples = 63882, Incorrectly classified = 25917\n",
      "Model 9...\n",
      "Bonafide Samples = 7355, Incorrectly classified = 45\n",
      "Spoof Samples = 63882, Incorrectly classified = 25840\n"
     ]
    }
   ],
   "source": [
    "for j in range(len(models)):\n",
    "    countBonafide = 0\n",
    "    countSpoof = 0\n",
    "    countBonafideClassifiedSpoof = 0\n",
    "    countSpoofClassifiedBonafide = 0\n",
    "    for i in range(len(y_true)):\n",
    "        if(y_true[i] > 0.5):\n",
    "            countSpoof += 1\n",
    "            if(y_pred[j][i] == 0):\n",
    "                countSpoofClassifiedBonafide += 1\n",
    "        elif(y_true[i] < 0.5):\n",
    "            countBonafide += 1\n",
    "            if(y_pred[j][i] == 1):\n",
    "                countBonafideClassifiedSpoof += 1\n",
    "    print(\"Model {}...\".format(j))\n",
    "    print(\"Bonafide Samples = {}, Incorrectly classified = {}\".format(countBonafide, countBonafideClassifiedSpoof))\n",
    "    print(\"Spoof Samples = {}, Incorrectly classified = {}\".format(countSpoof, countSpoofClassifiedBonafide))"
   ]
  },
  {
   "cell_type": "code",
   "execution_count": 22,
   "metadata": {},
   "outputs": [],
   "source": [
    "import pickle\n",
    "with open(\"y_true_spectrogram.txt\", \"wb\") as fp:   #Pickling\n",
    "    pickle.dump(y_true, fp)\n",
    "\n",
    "with open(\"y_pred_spectrogram.txt\", \"wb\") as fp:   #Pickling\n",
    "    pickle.dump(y_pred, fp)"
   ]
  },
  {
   "cell_type": "code",
   "execution_count": 23,
   "metadata": {},
   "outputs": [
    {
     "name": "stdout",
     "output_type": "stream",
     "text": [
      "10\n",
      "71237\n"
     ]
    }
   ],
   "source": [
    "with open(\"y_pred_spectrogram.txt\", \"rb\") as fp:   # Unpickling\n",
    "    b = pickle.load(fp)\n",
    "print(len(b))\n",
    "print(len(b[0]))"
   ]
  },
  {
   "cell_type": "code",
   "execution_count": null,
   "metadata": {},
   "outputs": [],
   "source": []
  }
 ],
 "metadata": {
  "colab": {
   "authorship_tag": "ABX9TyPC/Or2DQtbfxIPQnplYR9p",
   "collapsed_sections": [],
   "name": "evaluate_performance.ipynb",
   "provenance": []
  },
  "kernelspec": {
   "display_name": "Python 3",
   "language": "python",
   "name": "python3"
  },
  "language_info": {
   "codemirror_mode": {
    "name": "ipython",
    "version": 3
   },
   "file_extension": ".py",
   "mimetype": "text/x-python",
   "name": "python",
   "nbconvert_exporter": "python",
   "pygments_lexer": "ipython3",
   "version": "3.8.10"
  }
 },
 "nbformat": 4,
 "nbformat_minor": 1
}
