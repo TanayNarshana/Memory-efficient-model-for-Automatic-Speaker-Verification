{
 "cells": [
  {
   "cell_type": "code",
   "execution_count": 1,
   "id": "31b3489b",
   "metadata": {},
   "outputs": [],
   "source": [
    "import numpy as np\n",
    "import librosa\n",
    "import matplotlib.pyplot as plt\n",
    "from scipy import fft\n",
    "import os\n",
    "import shutil"
   ]
  },
  {
   "cell_type": "code",
   "execution_count": 2,
   "id": "e6604e2c",
   "metadata": {},
   "outputs": [],
   "source": [
    "data_use = \"train\"\n",
    "size_per_folder = 500\n",
    "\n",
    "\n",
    "desired_sampling_rate = 16000 # in Hz\n",
    "time_duration = 4 # in seconds\n",
    "\n",
    "window_size = 108 #in ms\n",
    "window_shift = 10 #in ms\n",
    "pointFFT = 1728\n",
    "\n",
    "\n",
    "\n",
    "source = \"../Data/LA/\"\n",
    "destination = \"../Data/main/\"\n",
    "\n",
    "\n",
    "window_size = int(window_size*desired_sampling_rate/1000) # converting to samples\n",
    "window_shift = int(window_shift*desired_sampling_rate/1000) # converting to samples\n",
    "labelfile = source + data_use + \".txt\""
   ]
  },
  {
   "cell_type": "code",
   "execution_count": 3,
   "id": "a479277d",
   "metadata": {
    "scrolled": true
   },
   "outputs": [
    {
     "name": "stdout",
     "output_type": "stream",
     "text": [
      "Total number of label entries found =  25380 25380\n",
      "Total number of bonafide / non-fake samples found =  2580\n",
      "Total number of spoofed / fake samples found =  22800\n",
      "restructuring bonafide data...\n",
      "0\n",
      "../Data/LA/train/flac/LA_T_1138215.flac\n"
     ]
    },
    {
     "ename": "DeprecationWarning",
     "evalue": "`np.float` is a deprecated alias for the builtin `float`. To silence this warning, use `float` by itself. Doing this will not modify any behavior and is safe. If you specifically wanted the numpy scalar type, use `np.float64` here.\nDeprecated in NumPy 1.20; for more details and guidance: https://numpy.org/devdocs/release/1.20.0-notes.html#deprecations",
     "output_type": "error",
     "traceback": [
      "\u001b[0;31m---------------------------------------------------------------------------\u001b[0m",
      "\u001b[0;31mDeprecationWarning\u001b[0m                        Traceback (most recent call last)",
      "\u001b[0;32m<ipython-input-3-73c1113fda1a>\u001b[0m in \u001b[0;36m<module>\u001b[0;34m\u001b[0m\n\u001b[1;32m     40\u001b[0m     \u001b[0msignal\u001b[0m \u001b[0;34m=\u001b[0m \u001b[0msignal\u001b[0m\u001b[0;34m[\u001b[0m\u001b[0;34m:\u001b[0m\u001b[0mtime_duration\u001b[0m\u001b[0;34m*\u001b[0m\u001b[0mdesired_sampling_rate\u001b[0m\u001b[0;34m]\u001b[0m\u001b[0;34m\u001b[0m\u001b[0;34m\u001b[0m\u001b[0m\n\u001b[1;32m     41\u001b[0m     \u001b[0;32mtry\u001b[0m\u001b[0;34m:\u001b[0m\u001b[0;34m\u001b[0m\u001b[0;34m\u001b[0m\u001b[0m\n\u001b[0;32m---> 42\u001b[0;31m         \u001b[0mspectrogram\u001b[0m \u001b[0;34m=\u001b[0m \u001b[0mnp\u001b[0m\u001b[0;34m.\u001b[0m\u001b[0mlog\u001b[0m\u001b[0;34m(\u001b[0m\u001b[0mnp\u001b[0m\u001b[0;34m.\u001b[0m\u001b[0mabs\u001b[0m\u001b[0;34m(\u001b[0m\u001b[0mlibrosa\u001b[0m\u001b[0;34m.\u001b[0m\u001b[0mstft\u001b[0m\u001b[0;34m(\u001b[0m\u001b[0msignal\u001b[0m\u001b[0;34m,\u001b[0m \u001b[0mn_fft\u001b[0m \u001b[0;34m=\u001b[0m \u001b[0mwindow_size\u001b[0m\u001b[0;34m,\u001b[0m \u001b[0mhop_length\u001b[0m \u001b[0;34m=\u001b[0m \u001b[0mwindow_shift\u001b[0m\u001b[0;34m)\u001b[0m\u001b[0;34m)\u001b[0m\u001b[0;34m)\u001b[0m\u001b[0;34m\u001b[0m\u001b[0;34m\u001b[0m\u001b[0m\n\u001b[0m\u001b[1;32m     43\u001b[0m     \u001b[0;32mexcept\u001b[0m \u001b[0mRuntimeWarning\u001b[0m\u001b[0;34m:\u001b[0m\u001b[0;34m\u001b[0m\u001b[0;34m\u001b[0m\u001b[0m\n\u001b[1;32m     44\u001b[0m         \u001b[0mprint\u001b[0m\u001b[0;34m(\u001b[0m\u001b[0mfilename\u001b[0m\u001b[0;34m,\u001b[0m \u001b[0;34m\"is excluded...\"\u001b[0m\u001b[0;34m)\u001b[0m\u001b[0;34m\u001b[0m\u001b[0;34m\u001b[0m\u001b[0m\n",
      "\u001b[0;32m~/anaconda3/envs/ml/lib/python3.8/site-packages/librosa/core/spectrum.py\u001b[0m in \u001b[0;36mstft\u001b[0;34m(y, n_fft, hop_length, win_length, window, center, dtype, pad_mode)\u001b[0m\n\u001b[1;32m    239\u001b[0m \u001b[0;34m\u001b[0m\u001b[0m\n\u001b[1;32m    240\u001b[0m     \u001b[0;32mif\u001b[0m \u001b[0mdtype\u001b[0m \u001b[0;32mis\u001b[0m \u001b[0;32mNone\u001b[0m\u001b[0;34m:\u001b[0m\u001b[0;34m\u001b[0m\u001b[0;34m\u001b[0m\u001b[0m\n\u001b[0;32m--> 241\u001b[0;31m         \u001b[0mdtype\u001b[0m \u001b[0;34m=\u001b[0m \u001b[0mutil\u001b[0m\u001b[0;34m.\u001b[0m\u001b[0mdtype_r2c\u001b[0m\u001b[0;34m(\u001b[0m\u001b[0my\u001b[0m\u001b[0;34m.\u001b[0m\u001b[0mdtype\u001b[0m\u001b[0;34m)\u001b[0m\u001b[0;34m\u001b[0m\u001b[0;34m\u001b[0m\u001b[0m\n\u001b[0m\u001b[1;32m    242\u001b[0m \u001b[0;34m\u001b[0m\u001b[0m\n\u001b[1;32m    243\u001b[0m     \u001b[0;31m# Pre-allocate the STFT matrix\u001b[0m\u001b[0;34m\u001b[0m\u001b[0;34m\u001b[0m\u001b[0;34m\u001b[0m\u001b[0m\n",
      "\u001b[0;32m~/anaconda3/envs/ml/lib/python3.8/site-packages/librosa/util/utils.py\u001b[0m in \u001b[0;36mdtype_r2c\u001b[0;34m(d, default)\u001b[0m\n\u001b[1;32m   2097\u001b[0m         \u001b[0mnp\u001b[0m\u001b[0;34m.\u001b[0m\u001b[0mdtype\u001b[0m\u001b[0;34m(\u001b[0m\u001b[0mnp\u001b[0m\u001b[0;34m.\u001b[0m\u001b[0mfloat32\u001b[0m\u001b[0;34m)\u001b[0m\u001b[0;34m:\u001b[0m \u001b[0mnp\u001b[0m\u001b[0;34m.\u001b[0m\u001b[0mcomplex64\u001b[0m\u001b[0;34m,\u001b[0m\u001b[0;34m\u001b[0m\u001b[0;34m\u001b[0m\u001b[0m\n\u001b[1;32m   2098\u001b[0m         \u001b[0mnp\u001b[0m\u001b[0;34m.\u001b[0m\u001b[0mdtype\u001b[0m\u001b[0;34m(\u001b[0m\u001b[0mnp\u001b[0m\u001b[0;34m.\u001b[0m\u001b[0mfloat64\u001b[0m\u001b[0;34m)\u001b[0m\u001b[0;34m:\u001b[0m \u001b[0mnp\u001b[0m\u001b[0;34m.\u001b[0m\u001b[0mcomplex128\u001b[0m\u001b[0;34m,\u001b[0m\u001b[0;34m\u001b[0m\u001b[0;34m\u001b[0m\u001b[0m\n\u001b[0;32m-> 2099\u001b[0;31m         \u001b[0mnp\u001b[0m\u001b[0;34m.\u001b[0m\u001b[0mdtype\u001b[0m\u001b[0;34m(\u001b[0m\u001b[0mnp\u001b[0m\u001b[0;34m.\u001b[0m\u001b[0mfloat\u001b[0m\u001b[0;34m)\u001b[0m\u001b[0;34m:\u001b[0m \u001b[0mnp\u001b[0m\u001b[0;34m.\u001b[0m\u001b[0mcomplex\u001b[0m\u001b[0;34m,\u001b[0m\u001b[0;34m\u001b[0m\u001b[0;34m\u001b[0m\u001b[0m\n\u001b[0m\u001b[1;32m   2100\u001b[0m     }\n\u001b[1;32m   2101\u001b[0m \u001b[0;34m\u001b[0m\u001b[0m\n",
      "\u001b[0;32m~/anaconda3/envs/ml/lib/python3.8/site-packages/numpy/__init__.py\u001b[0m in \u001b[0;36m__getattr__\u001b[0;34m(attr)\u001b[0m\n\u001b[1;32m    285\u001b[0m                 \u001b[0;32mpass\u001b[0m\u001b[0;34m\u001b[0m\u001b[0;34m\u001b[0m\u001b[0m\n\u001b[1;32m    286\u001b[0m             \u001b[0;32melse\u001b[0m\u001b[0;34m:\u001b[0m\u001b[0;34m\u001b[0m\u001b[0;34m\u001b[0m\u001b[0m\n\u001b[0;32m--> 287\u001b[0;31m                 \u001b[0mwarnings\u001b[0m\u001b[0;34m.\u001b[0m\u001b[0mwarn\u001b[0m\u001b[0;34m(\u001b[0m\u001b[0mmsg\u001b[0m\u001b[0;34m,\u001b[0m \u001b[0mDeprecationWarning\u001b[0m\u001b[0;34m,\u001b[0m \u001b[0mstacklevel\u001b[0m\u001b[0;34m=\u001b[0m\u001b[0;36m2\u001b[0m\u001b[0;34m)\u001b[0m\u001b[0;34m\u001b[0m\u001b[0;34m\u001b[0m\u001b[0m\n\u001b[0m\u001b[1;32m    288\u001b[0m                 \u001b[0;32mreturn\u001b[0m \u001b[0mval\u001b[0m\u001b[0;34m\u001b[0m\u001b[0;34m\u001b[0m\u001b[0m\n\u001b[1;32m    289\u001b[0m \u001b[0;34m\u001b[0m\u001b[0m\n",
      "\u001b[0;31mDeprecationWarning\u001b[0m: `np.float` is a deprecated alias for the builtin `float`. To silence this warning, use `float` by itself. Doing this will not modify any behavior and is safe. If you specifically wanted the numpy scalar type, use `np.float64` here.\nDeprecated in NumPy 1.20; for more details and guidance: https://numpy.org/devdocs/release/1.20.0-notes.html#deprecations"
     ]
    }
   ],
   "source": [
    "import warnings\n",
    "warnings.filterwarnings(\"error\")\n",
    "\n",
    "bonafide_files = []\n",
    "spoof_files = []\n",
    "count = 0\n",
    "count0 = 0\n",
    "count1 = 0\n",
    "\n",
    "with open(labelfile) as fp:\n",
    "    for line in fp:\n",
    "        contents = line.split(' ')\n",
    "        audioname = contents[1] + '.flac'\n",
    "        if contents[4] == 'bonafide\\n': # bonafide\n",
    "            bonafide_files.append(audioname) # 0 for bonaifde, aka not fake\n",
    "            count0 += 1\n",
    "        else: #spoofed\n",
    "            spoof_files.append(audioname) # 1 for spoofed, aka fake\n",
    "            count1 += 1\n",
    "        count += 1\n",
    "print(\"Total number of label entries found = \", count, len(bonafide_files)+len(spoof_files))\n",
    "print(\"Total number of bonafide / non-fake samples found = \", count0)\n",
    "print(\"Total number of spoofed / fake samples found = \", count1)\n",
    "\n",
    "source_dir = source + data_use + \"/flac/\"\n",
    "\n",
    "print(\"restructuring bonafide data...\")\n",
    "\n",
    "count = 0\n",
    "for filename in bonafide_files:\n",
    "    print(count%size_per_folder)\n",
    "    if count%size_per_folder == 0:\n",
    "        dest_dir = destination + data_use + \"/bonafide_\" + str(count//size_per_folder)\n",
    "        os.mkdir(dest_dir)\n",
    "    fname= os.path.join(source_dir,filename)\n",
    "    print(fname)\n",
    "    signal, sr = librosa.load(fname,sr = None)\n",
    "    while np.shape(signal)[0] < time_duration*desired_sampling_rate:\n",
    "        signal = np.hstack((signal,signal))\n",
    "    signal = signal[:time_duration*desired_sampling_rate]\n",
    "    try:\n",
    "        spectrogram = np.log(np.abs(librosa.stft(signal, n_fft = window_size, hop_length = window_shift)))\n",
    "    except RuntimeWarning:\n",
    "        print(filename, \"is excluded...\")\n",
    "        continue\n",
    "    shutil.move(fname, dest_dir + \"/\" + filename)\n",
    "    count += 1\n",
    "\n",
    "\n",
    "\n",
    "print(\"restructuring spoof data...\")\n",
    "count = 0\n",
    "for filename in spoof_files:\n",
    "    print(count%size_per_folder)\n",
    "    if count%size_per_folder == 0:\n",
    "        dest_dir = destination + \"/\" + data_use + \"/spoof_\" + str(count//size_per_folder)\n",
    "        os.mkdir(dest_dir)\n",
    "    fname= os.path.join(source_dir,filename)\n",
    "    signal, sr = librosa.load(fname,sr = None)\n",
    "    while np.shape(signal)[0] < time_duration*desired_sampling_rate:\n",
    "        signal = np.hstack((signal,signal))\n",
    "    signal = signal[:time_duration*desired_sampling_rate]\n",
    "    try:\n",
    "        spectrogram = np.log(np.abs(librosa.stft(signal, n_fft = window_size, hop_length = window_shift)))\n",
    "    except RuntimeWarning:\n",
    "        print(filename, \"is excluded...\")\n",
    "        continue\n",
    "    shutil.move(fname, dest_dir + \"/\" + filename)\n",
    "    count += 1"
   ]
  },
  {
   "cell_type": "code",
   "execution_count": null,
   "id": "59451be7",
   "metadata": {},
   "outputs": [],
   "source": [
    "print(fname)"
   ]
  },
  {
   "cell_type": "code",
   "execution_count": null,
   "id": "bea26f88",
   "metadata": {},
   "outputs": [],
   "source": []
  }
 ],
 "metadata": {
  "kernelspec": {
   "display_name": "Python 3",
   "language": "python",
   "name": "python3"
  },
  "language_info": {
   "codemirror_mode": {
    "name": "ipython",
    "version": 3
   },
   "file_extension": ".py",
   "mimetype": "text/x-python",
   "name": "python",
   "nbconvert_exporter": "python",
   "pygments_lexer": "ipython3",
   "version": "3.8.10"
  }
 },
 "nbformat": 4,
 "nbformat_minor": 5
}
